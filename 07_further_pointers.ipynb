{
 "cells": [
  {
   "cell_type": "markdown",
   "id": "bb1d93f9",
   "metadata": {},
   "source": [
    "## Pointers to further exercises \n",
    "\n",
    "### Stepping outside your lab\n",
    "Unfortunately, the following intro tutorials cannot be run on Colab, but are highly recommended to re-visit on own hardware:\n",
    "- [Creating a MONAI Bundle for Spleen CT](https://github.com/Project-MONAI/tutorials/tree/main/bundle/spleen_segmentation)\n",
    "- [App packaging and deployment of Bundles with DeployAppSDK](https://github.com/Project-MONAI/monai-deploy-app-sdk/blob/main/notebooks/tutorials/06_monai_bundle_app.ipynb)\n",
    "- [Federated Learning with monai.fl](https://github.com/NVIDIA/NVFlare/blob/dev/integration/monai/examples/spleen_ct_segmentation/README.md)\n",
    "\n",
    "### Explore other tutorials\n",
    "Alternatively, feel free to explore any of the other tutorials available on: https://github.com/Project-MONAI/tutorials\n",
    "\n",
    "A few recommendations:\n",
    "* Acceleration: [Further acceleration recipes and tips on profiling](https://github.com/Project-MONAI/tutorials/blob/main/acceleration/fast_model_training_guide.md)\n",
    "* Detection: [3D Detection on LUNA16 dataset](https://github.com/Project-MONAI/tutorials/tree/main/detection)\n",
    "* Auto3DSeg: [Several Auto3DSeg Tutorials](https://github.com/Project-MONAI/tutorials/tree/main/auto3dseg)\n",
    "* Endoscopy: [Surgical tool segmentation in intra-operative endoscopy video](https://github.com/Project-MONAI/tutorials/blob/main/computer_assisted_intervention/video_seg.ipynb)\n",
    "\n",
    "Other interesting resources:\n",
    "* Model-Zoo: [Homepage of MONAI Model-Zoo](https://monai.io/model-zoo) and [Contributing Guidelines](https://github.com/Project-MONAI/model-zoo/blob/dev/CONTRIBUTING.md).\n"
   ]
  }
 ],
 "metadata": {
  "kernelspec": {
   "display_name": "Python 3 (ipykernel)",
   "language": "python",
   "name": "python3"
  },
  "language_info": {
   "codemirror_mode": {
    "name": "ipython",
    "version": 3
   },
   "file_extension": ".py",
   "mimetype": "text/x-python",
   "name": "python",
   "nbconvert_exporter": "python",
   "pygments_lexer": "ipython3",
   "version": "3.8.13"
  }
 },
 "nbformat": 4,
 "nbformat_minor": 5
}
